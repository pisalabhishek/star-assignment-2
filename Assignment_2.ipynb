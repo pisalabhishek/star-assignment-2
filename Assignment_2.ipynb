{
  "cells": [
    {
      "cell_type": "code",
      "execution_count": 2,
      "id": "89bb394c",
      "metadata": {
        "colab": {
          "base_uri": "https://localhost:8080/"
        },
        "id": "89bb394c",
        "outputId": "feda0af6-efad-4a47-fc55-34aa93a1683b"
      },
      "outputs": [
        {
          "name": "stdout",
          "output_type": "stream",
          "text": [
            "✅ Sample cleaned record: {'CLAIM_ID': 'CLM100021', 'CLAIM_DATE': '2025-04-01', 'CUSTOMER_ID': 'CUST14285', 'CLAIM_AMOUNT': 10419.0, 'PREMIUM_COLLECTED': 2198.59, 'PAID_AMOUNT': 6964.46, 'CITY': 'PUNE', 'REJECTION_REMARKS': None}\n"
          ]
        }
      ],
      "source": [
        "\n",
        "def clean_csv_data(filepath):\n",
        "    with open(filepath, \"r\") as file:\n",
        "        lines = file.readlines()\n",
        "\n",
        "    headers = lines[0].strip().split(\",\")\n",
        "    cleaned_data = []\n",
        "\n",
        "    for line in lines[1:]:\n",
        "        values = line.strip().split(\",\")\n",
        "        if len(values) != len(headers):\n",
        "            continue\n",
        "\n",
        "        row = dict(zip(headers, values))\n",
        "\n",
        "\n",
        "        for key in row:\n",
        "            val = row[key].strip().lower()\n",
        "            if val in [\"\", \"na\", \"null\"]:\n",
        "                row[key] = None\n",
        "\n",
        "\n",
        "        for field in [\"CLAIM_AMOUNT\", \"PREMIUM_COLLECTED\", \"PAID_AMOUNT\"]:\n",
        "            try:\n",
        "                row[field] = float(row[field]) if row[field] is not None else 0.0\n",
        "            except:\n",
        "                row[field] = 0.0\n",
        "\n",
        "        cleaned_data.append(row)\n",
        "\n",
        "    return cleaned_data\n",
        "\n",
        "\n",
        "data = clean_csv_data(\"/content/Insurance_auto_data.csv\")\n",
        "print(\" Sample cleaned record:\", data[0])\n"
      ]
    },
    {
      "cell_type": "code",
      "execution_count": null,
      "id": "8cdc985a",
      "metadata": {
        "colab": {
          "base_uri": "https://localhost:8080/"
        },
        "id": "8cdc985a",
        "outputId": "d247a1b6-fc39-4baf-e0a7-46a6367e272f"
      },
      "outputs": [
        {
          "name": "stdout",
          "output_type": "stream",
          "text": [
            "PUNE: Claims = 37, Unpaid = ₹568698.11\n",
            "GUWAHATI: Claims = 24, Unpaid = ₹451116.87999999995\n",
            "RANCHI: Claims = 17, Unpaid = ₹298936.49\n",
            "KOLKATA: Claims = 16, Unpaid = ₹234423.09000000003\n",
            "None: Claims = 6, Unpaid = ₹139152.26\n",
            "\n",
            "🔍 Recommendation: Close operations in: PUNE\n"
          ]
        }
      ],
      "source": [
        "\n",
        "def analyze_city_performance(cleaned_data):\n",
        "    city_stats = {}\n",
        "\n",
        "    for row in cleaned_data:\n",
        "        city = row.get(\"CITY\", \"Unknown\")\n",
        "        city_stats.setdefault(city, {\"claims\": 0, \"unpaid\": 0.0})\n",
        "\n",
        "        city_stats[city][\"claims\"] += 1\n",
        "\n",
        "        unpaid = row[\"CLAIM_AMOUNT\"] - row[\"PAID_AMOUNT\"]\n",
        "        if unpaid > 0:\n",
        "            city_stats[city][\"unpaid\"] += unpaid\n",
        "\n",
        "    for city, stats in city_stats.items():\n",
        "        print(f\"{city}: Claims = {stats['claims']}, Unpaid = ₹{stats['unpaid']}\")\n",
        "\n",
        "    worst_city = max(city_stats.items(), key=lambda x: x[1][\"unpaid\"])\n",
        "    print(\"\\n Recommendation: Close operations in:\", worst_city[0])\n",
        "\n",
        "analyze_city_performance(data)\n"
      ]
    },
    {
      "cell_type": "code",
      "execution_count": null,
      "id": "4b93cd11",
      "metadata": {
        "colab": {
          "base_uri": "https://localhost:8080/"
        },
        "id": "4b93cd11",
        "outputId": "6123664d-3769-4271-b076-73ecdc56cec8"
      },
      "outputs": [
        {
          "name": "stdout",
          "output_type": "stream",
          "text": [
            "✅ Sample with rejection classification: {'CLAIM_ID': 'CLM100021', 'CLAIM_DATE': '2025-04-01', 'CUSTOMER_ID': 'CUST14285', 'CLAIM_AMOUNT': 10419.0, 'PREMIUM_COLLECTED': 2198.59, 'PAID_AMOUNT': 6964.46, 'CITY': 'PUNE', 'REJECTION_REMARKS': None, 'REJECTION_CLASS': 'No Remark'}\n"
          ]
        }
      ],
      "source": [
        "\n",
        "REJECTION_REASONS_MAP = {\n",
        "    \"fake_document\": \"Fake_document\",\n",
        "    \"not_covered\": \"Not_Covered\",\n",
        "    \"policy_expired\": \"Policy_expired\"\n",
        "}\n",
        "\n",
        "def handle_error(error_message):\n",
        "    print(f\"Error: {error_message}\")\n",
        "    return \"Error\"\n",
        "\n",
        "def contains_rejection_reason(rejection_text, reason):\n",
        "    try:\n",
        "        if rejection_text and isinstance(rejection_text, str):\n",
        "            return reason in rejection_text.lower()\n",
        "    except Exception as e:\n",
        "        handle_error(f\"Error in contains_rejection_reason: {str(e)}\")\n",
        "        return False\n",
        "    return False\n",
        "\n",
        "def map_rejection_reason(rejection_text):\n",
        "    try:\n",
        "        for reason, rejection_class in REJECTION_REASONS_MAP.items():\n",
        "            if contains_rejection_reason(rejection_text, reason):\n",
        "                return rejection_class\n",
        "        return \"Unknown\"\n",
        "    except Exception as e:\n",
        "        handle_error(f\"Error in map_rejection_reason: {str(e)}\")\n",
        "        return \"Error\"\n",
        "\n",
        "def complex_rejection_classifier(remark_text):\n",
        "    try:\n",
        "        if not isinstance(remark_text, str) or len(remark_text.strip()) == 0:\n",
        "            return \"Invalid Remark\"\n",
        "\n",
        "        if contains_rejection_reason(remark_text, \"fake_document\"):\n",
        "            return \"Fake_document\"\n",
        "        elif contains_rejection_reason(remark_text, \"not_covered\"):\n",
        "            return \"Not_Covered\"\n",
        "        elif contains_rejection_reason(remark_text, \"policy_expired\"):\n",
        "            return \"Policy_expired\"\n",
        "        else:\n",
        "            return map_rejection_reason(remark_text)\n",
        "    except Exception as e:\n",
        "        handle_error(f\"Error in complex_rejection_classifier: {str(e)}\")\n",
        "        return \"Error\"\n",
        "\n",
        "for record in data:\n",
        "    remark = record.get(\"REJECTION_REMARKS\")\n",
        "    record[\"REJECTION_CLASS\"] = complex_rejection_classifier(remark) if remark else \"No Remark\"\n",
        "\n",
        "print(\" Sample with rejection classification:\", data[0])\n"
      ]
    }
  ],
  "metadata": {
    "colab": {
      "provenance": []
    },
    "kernelspec": {
      "display_name": "Python 3",
      "language": "python",
      "name": "python3"
    },
    "language_info": {
      "codemirror_mode": {
        "name": "ipython",
        "version": 3
      },
      "file_extension": ".py",
      "mimetype": "text/x-python",
      "name": "python",
      "nbconvert_exporter": "python",
      "pygments_lexer": "ipython3",
      "version": "3.10.6"
    }
  },
  "nbformat": 4,
  "nbformat_minor": 5
}
